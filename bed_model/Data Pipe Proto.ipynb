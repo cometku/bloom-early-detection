{
 "cells": [
  {
   "cell_type": "markdown",
   "metadata": {},
   "source": [
    "# Data Pipe Proto"
   ]
  },
  {
   "cell_type": "code",
   "execution_count": 1,
   "metadata": {},
   "outputs": [],
   "source": [
    "import os\n",
    "import h5py\n",
    "import xarray as xr\n",
    "import pandas as pd\n",
    "import numpy as np\n",
    "from datetime import datetime, date, time, timedelta\n",
    "import matplotlib.pyplot as plt\n",
    "import cudf\n",
    "import datashader as ds, pandas as pd\n",
    "from colorcet import fire\n",
    "import datashader.transfer_functions as tf\n",
    "import cuspatial\n",
    "from tqdm import tqdm"
   ]
  },
  {
   "cell_type": "code",
   "execution_count": 2,
   "metadata": {},
   "outputs": [],
   "source": [
    "filename = \"data/satellite/requested_files_1/requested_files/A2020258175000.L2_LAC_OC.x.nc\""
   ]
  },
  {
   "cell_type": "code",
   "execution_count": 3,
   "metadata": {},
   "outputs": [
    {
     "name": "stdout",
     "output_type": "stream",
     "text": [
      "CPU times: user 893 ms, sys: 617 ms, total: 1.51 s\n",
      "Wall time: 3.33 s\n"
     ]
    }
   ],
   "source": [
    "%%time\n",
    "h5file = h5py.File(filename, 'r')\n",
    "out_df = cudf.from_pandas(pd.concat([pd.DataFrame(h5file['navigation_data']['latitude'][()]), pd.DataFrame(h5file['navigation_data']['longitude'][()]), pd.DataFrame(h5file['geophysical_data']['chlor_a'][()])], axis = 1, keys = ['lat', 'lon', 'chlor']).stack().reset_index(drop=True))\n",
    "start_date = \"01/01/{}\".format(h5file['scan_line_attributes']['year'][0])\n",
    "date_1 = datetime.strptime(start_date, \"%m/%d/%Y\")\n",
    "dateset_date = date_1 + timedelta(days=h5file['scan_line_attributes']['day'][0].item())\n",
    "out_df['date'] = [dateset_date] * out_df.shape[0]\n",
    "out_df = out_df.loc[(out_df['chlor'] != -32767.0)]"
   ]
  },
  {
   "cell_type": "code",
   "execution_count": 4,
   "metadata": {},
   "outputs": [
    {
     "data": {
      "text/plain": [
       "(1531, 4)"
      ]
     },
     "execution_count": 4,
     "metadata": {},
     "output_type": "execute_result"
    }
   ],
   "source": [
    "out_df.shape"
   ]
  },
  {
   "cell_type": "code",
   "execution_count": 5,
   "metadata": {},
   "outputs": [
    {
     "data": {
      "text/html": [
       "<div>\n",
       "<style scoped>\n",
       "    .dataframe tbody tr th:only-of-type {\n",
       "        vertical-align: middle;\n",
       "    }\n",
       "\n",
       "    .dataframe tbody tr th {\n",
       "        vertical-align: top;\n",
       "    }\n",
       "\n",
       "    .dataframe thead th {\n",
       "        text-align: right;\n",
       "    }\n",
       "</style>\n",
       "<table border=\"1\" class=\"dataframe\">\n",
       "  <thead>\n",
       "    <tr style=\"text-align: right;\">\n",
       "      <th></th>\n",
       "      <th>lat</th>\n",
       "      <th>lon</th>\n",
       "      <th>chlor</th>\n",
       "      <th>date</th>\n",
       "    </tr>\n",
       "  </thead>\n",
       "  <tbody>\n",
       "    <tr>\n",
       "      <th>182655</th>\n",
       "      <td>43.712784</td>\n",
       "      <td>-77.795525</td>\n",
       "      <td>2.063078</td>\n",
       "      <td>2020-09-15</td>\n",
       "    </tr>\n",
       "    <tr>\n",
       "      <th>182656</th>\n",
       "      <td>43.709061</td>\n",
       "      <td>-77.814217</td>\n",
       "      <td>2.073534</td>\n",
       "      <td>2020-09-15</td>\n",
       "    </tr>\n",
       "    <tr>\n",
       "      <th>185353</th>\n",
       "      <td>43.714680</td>\n",
       "      <td>-77.963722</td>\n",
       "      <td>2.038017</td>\n",
       "      <td>2020-09-15</td>\n",
       "    </tr>\n",
       "    <tr>\n",
       "      <th>185893</th>\n",
       "      <td>43.717697</td>\n",
       "      <td>-78.006073</td>\n",
       "      <td>2.039376</td>\n",
       "      <td>2020-09-15</td>\n",
       "    </tr>\n",
       "    <tr>\n",
       "      <th>185894</th>\n",
       "      <td>43.713802</td>\n",
       "      <td>-78.025192</td>\n",
       "      <td>2.085391</td>\n",
       "      <td>2020-09-15</td>\n",
       "    </tr>\n",
       "  </tbody>\n",
       "</table>\n",
       "</div>"
      ],
      "text/plain": [
       "              lat        lon     chlor       date\n",
       "182655  43.712784 -77.795525  2.063078 2020-09-15\n",
       "182656  43.709061 -77.814217  2.073534 2020-09-15\n",
       "185353  43.714680 -77.963722  2.038017 2020-09-15\n",
       "185893  43.717697 -78.006073  2.039376 2020-09-15\n",
       "185894  43.713802 -78.025192  2.085391 2020-09-15"
      ]
     },
     "execution_count": 5,
     "metadata": {},
     "output_type": "execute_result"
    }
   ],
   "source": [
    "out_df.head()"
   ]
  },
  {
   "cell_type": "code",
   "execution_count": 6,
   "metadata": {},
   "outputs": [
    {
     "data": {
      "text/plain": [
       "(1531, 4)"
      ]
     },
     "execution_count": 6,
     "metadata": {},
     "output_type": "execute_result"
    }
   ],
   "source": [
    "out_df.shape"
   ]
  },
  {
   "cell_type": "code",
   "execution_count": 7,
   "metadata": {},
   "outputs": [
    {
     "data": {
      "image/png": "[encoded data removed]",
      "text/html": [
       "<img style=\"margin: auto; border:1px solid\" src='data:image/png;base64,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'/>"
      ],
      "text/plain": [
       "<xarray.Image (lat: 400, lon: 400)>\n",
       "array([[4278190080, 4278190080, 4278190080, ..., 4278190080, 4278190080,\n",
       "        4278190080],\n",
       "       [4278190080, 4278190080, 4278190080, ..., 4278190080, 4278190080,\n",
       "        4278190080],\n",
       "       [4278190080, 4278190080, 4278190080, ..., 4278190080, 4278190080,\n",
       "        4278190080],\n",
       "       ...,\n",
       "       [4278190080, 4278190080, 4278190080, ..., 4278190080, 4278190080,\n",
       "        4278190080],\n",
       "       [4278190080, 4278190080, 4278190080, ..., 4278190080, 4278190080,\n",
       "        4278190080],\n",
       "       [4278190080, 4278190080, 4278190080, ..., 4278190080, 4278190080,\n",
       "        4278190080]], dtype=uint32)\n",
       "Coordinates:\n",
       "  * lon      (lon) float64 -81.15 -81.14 -81.12 -81.11 ... -76.37 -76.36 -76.35\n",
       "  * lat      (lat) float64 43.72 43.74 43.76 43.78 ... 52.33 52.35 52.37 52.4"
      ]
     },
     "execution_count": 7,
     "metadata": {},
     "output_type": "execute_result"
    }
   ],
   "source": [
    "cvs = ds.Canvas(plot_width=400, plot_height=400)\n",
    "agg = cvs.points(out_df.to_pandas(), 'lon', 'lat', ds.mean('chlor'))\n",
    "tf.set_background(tf.shade(agg, cmap=fire),\"black\")"
   ]
  },
  {
   "cell_type": "markdown",
   "metadata": {},
   "source": [
    "# Creating Large (Macro) Dataframe"
   ]
  },
  {
   "cell_type": "code",
   "execution_count": 8,
   "metadata": {},
   "outputs": [],
   "source": [
    "data_path = './data/satellite/'\n",
    "data_files = []\n",
    "for subdir, dirs, files in os.walk('./data/satellite/'):\n",
    "    for filename in files:\n",
    "        filepath = subdir + os.sep + filename\n",
    "\n",
    "        if filepath.endswith(\".nc\"):\n",
    "            data_files.append(filepath)"
   ]
  },
  {
   "cell_type": "code",
   "execution_count": 9,
   "metadata": {},
   "outputs": [
    {
     "data": {
      "text/plain": [
       "1093"
      ]
     },
     "execution_count": 9,
     "metadata": {},
     "output_type": "execute_result"
    }
   ],
   "source": [
    "len(data_files)"
   ]
  },
  {
   "cell_type": "code",
   "execution_count": null,
   "metadata": {},
   "outputs": [
    {
     "name": "stderr",
     "output_type": "stream",
     "text": [
      " 94%|█████████▎| 1022/1093 [01:48<00:06, 11.19it/s]"
     ]
    }
   ],
   "source": [
    "%%time\n",
    "comp_df = cudf.DataFrame()\n",
    "dfs = []\n",
    "for file in tqdm(data_files):\n",
    "    h5file = h5py.File(file, 'r')\n",
    "    out_df = cudf.from_pandas(pd.concat([pd.DataFrame(h5file['navigation_data']['latitude'][()]), pd.DataFrame(h5file['navigation_data']['longitude'][()]), pd.DataFrame(h5file['geophysical_data']['chlor_a'][()])], axis = 1, keys = ['lat', 'lon', 'chlor']).stack().reset_index(drop=True))\n",
    "    start_date = \"01/01/{}\".format(h5file['scan_line_attributes']['year'][0])\n",
    "    date_1 = datetime.strptime(start_date, \"%m/%d/%Y\")\n",
    "    dateset_date = date_1 + timedelta(days=h5file['scan_line_attributes']['day'][0].item())\n",
    "    out_df['date'] = [dateset_date] * out_df.shape[0]\n",
    "    out_df = out_df.loc[(out_df['chlor'] != -32767.0)]\n",
    "    dfs.append(out_df)\n",
    "comp_df = cudf.concat(dfs)"
   ]
  },
  {
   "cell_type": "code",
   "execution_count": null,
   "metadata": {},
   "outputs": [],
   "source": [
    "comp_df.head()"
   ]
  },
  {
   "cell_type": "code",
   "execution_count": null,
   "metadata": {},
   "outputs": [],
   "source": [
    "comp_df.shape"
   ]
  },
  {
   "cell_type": "code",
   "execution_count": null,
   "metadata": {},
   "outputs": [],
   "source": [
    "cvs = ds.Canvas(plot_width=400, plot_height=400)\n",
    "agg = cvs.points(comp_df.to_pandas(), 'lon', 'lat', ds.mean('chlor'))\n",
    "tf.set_background(tf.shade(agg, cmap=fire),\"black\")"
   ]
  },
  {
   "cell_type": "markdown",
   "metadata": {},
   "source": [
    "Data has now been merged into one macro dataframe. Now, we perform point-in-polygon tests to select only the 5 great lakes."
   ]
  },
  {
   "cell_type": "markdown",
   "metadata": {},
   "source": [
    "# Point-In-Polygon Tests"
   ]
  },
  {
   "cell_type": "code",
   "execution_count": null,
   "metadata": {},
   "outputs": [],
   "source": [
    "shapefiles_dir = './data/shapefiles/'\n",
    "shapefiles = []\n",
    "# making shapefiles directory\n",
    "for filename in os.listdir(shapefiles_dir):\n",
    "    if filename.endswith('.shp'):\n",
    "        shapefiles.append(shapefiles_dir + filename)\n",
    "shapefiles # now we have all 5 shapefiles"
   ]
  },
  {
   "cell_type": "code",
   "execution_count": null,
   "metadata": {},
   "outputs": [],
   "source": [
    "# trial with 1 shapefile\n",
    "huron = cuspatial.read_polygon_shapefile(shapefiles[1]) # read shapefile"
   ]
  },
  {
   "cell_type": "code",
   "execution_count": null,
   "metadata": {},
   "outputs": [],
   "source": [
    "%%time\n",
    "huron_df = cuspatial.point_in_polygon(comp_df['lon'] , comp_df['lat'], huron[0], huron[1], huron[2]['x'], huron[2]['y'])"
   ]
  },
  {
   "cell_type": "code",
   "execution_count": null,
   "metadata": {},
   "outputs": [],
   "source": [
    "huron_df[0].value_counts()"
   ]
  },
  {
   "cell_type": "code",
   "execution_count": null,
   "metadata": {},
   "outputs": [],
   "source": [
    "huron_chlor = comp_df[huron_df[0]]"
   ]
  },
  {
   "cell_type": "code",
   "execution_count": null,
   "metadata": {},
   "outputs": [],
   "source": [
    "huron_chlor"
   ]
  },
  {
   "cell_type": "code",
   "execution_count": null,
   "metadata": {},
   "outputs": [],
   "source": [
    "cvs = ds.Canvas(plot_width=400, plot_height=400)\n",
    "agg = cvs.points(huron_chlor[huron_chlor['date'] == datetime.strptime(\"10/01/2020\", \"%m/%d/%Y\")].to_pandas(), 'lon', 'lat', ds.mean('chlor'))\n",
    "tf.set_background(tf.shade(agg, cmap=fire),\"black\")"
   ]
  },
  {
   "cell_type": "code",
   "execution_count": null,
   "metadata": {},
   "outputs": [],
   "source": [
    "huron_chlor.to_csv('huron.csv', index = False)"
   ]
  },
  {
   "cell_type": "code",
   "execution_count": null,
   "metadata": {},
   "outputs": [],
   "source": [
    "from sqlalchemy import create_engine\n",
    "import pandas as pd\n",
    "\n",
    "# postgres doesn't like capitals or spaces\n",
    "\n",
    "df = huron_chlor.to_pandas()\n",
    "df.columns = [c.lower() for c in df.columns]\n",
    "\n",
    "engine = create_engine('postgres://admin:secret@db:5432/postgres')\n",
    "\n",
    "df.to_sql(\"chlora\", engine, if_exists = \"replace\", index = False, method = \"multi\", chunksize = 1_000_000)"
   ]
  },
  {
   "cell_type": "code",
   "execution_count": null,
   "metadata": {},
   "outputs": [],
   "source": []
  }
 ],
 "metadata": {
  "kernelspec": {
   "display_name": "Python 3",
   "language": "python",
   "name": "python3"
  },
  "language_info": {
   "codemirror_mode": {
    "name": "ipython",
    "version": 3
   },
   "file_extension": ".py",
   "mimetype": "text/x-python",
   "name": "python",
   "nbconvert_exporter": "python",
   "pygments_lexer": "ipython3",
   "version": "3.7.8"
  }
 },
 "nbformat": 4,
 "nbformat_minor": 4
}
