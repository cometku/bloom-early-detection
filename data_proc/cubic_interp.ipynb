{
 "cells": [
  {
   "cell_type": "code",
   "execution_count": 1,
   "metadata": {},
   "outputs": [],
   "source": [
    "import pandas as pd\n",
    "import numpy as np\n",
    "from scipy.interpolate import interp1d"
   ]
  },
  {
   "cell_type": "code",
   "execution_count": 2,
   "metadata": {},
   "outputs": [],
   "source": [
    "erie_df = pd.read_csv(\"final/erie.csv\")\n",
    "huron_df = pd.read_csv(\"final/huron.csv\")\n",
    "michigan_df = pd.read_csv(\"final/michigan.csv\")\n",
    "ontario_df = pd.read_csv(\"final/ontario.csv\")\n",
    "superior_df = pd.read_csv(\"final/superior.csv\").fillna(method=\"ffill\")\n",
    "erie_df[\"date\"] = pd.to_datetime(erie_df['date'])\n",
    "huron_df[\"date\"] = pd.to_datetime(huron_df['date'])\n",
    "michigan_df[\"date\"] = pd.to_datetime(michigan_df['date'])\n",
    "ontario_df[\"date\"] = pd.to_datetime(ontario_df['date'])\n",
    "superior_df[\"date\"] = pd.to_datetime(superior_df['date'])"
   ]
  },
  {
   "cell_type": "code",
   "execution_count": 3,
   "metadata": {},
   "outputs": [
    {
     "data": {
      "text/html": [
       "<div>\n",
       "<style scoped>\n",
       "    .dataframe tbody tr th:only-of-type {\n",
       "        vertical-align: middle;\n",
       "    }\n",
       "\n",
       "    .dataframe tbody tr th {\n",
       "        vertical-align: top;\n",
       "    }\n",
       "\n",
       "    .dataframe thead th {\n",
       "        text-align: right;\n",
       "    }\n",
       "</style>\n",
       "<table border=\"1\" class=\"dataframe\">\n",
       "  <thead>\n",
       "    <tr style=\"text-align: right;\">\n",
       "      <th></th>\n",
       "      <th>date</th>\n",
       "      <th>chlor</th>\n",
       "      <th>sst</th>\n",
       "    </tr>\n",
       "  </thead>\n",
       "  <tbody>\n",
       "    <tr>\n",
       "      <th>0</th>\n",
       "      <td>2019-01-09</td>\n",
       "      <td>3.932144</td>\n",
       "      <td>2.630252</td>\n",
       "    </tr>\n",
       "    <tr>\n",
       "      <th>1</th>\n",
       "      <td>2019-01-17</td>\n",
       "      <td>1.171366</td>\n",
       "      <td>2.489470</td>\n",
       "    </tr>\n",
       "    <tr>\n",
       "      <th>2</th>\n",
       "      <td>2019-01-25</td>\n",
       "      <td>1.118915</td>\n",
       "      <td>2.029257</td>\n",
       "    </tr>\n",
       "    <tr>\n",
       "      <th>3</th>\n",
       "      <td>2019-02-02</td>\n",
       "      <td>0.510430</td>\n",
       "      <td>2.029257</td>\n",
       "    </tr>\n",
       "    <tr>\n",
       "      <th>4</th>\n",
       "      <td>2019-02-10</td>\n",
       "      <td>1.242594</td>\n",
       "      <td>-0.781515</td>\n",
       "    </tr>\n",
       "  </tbody>\n",
       "</table>\n",
       "</div>"
      ],
      "text/plain": [
       "        date     chlor       sst\n",
       "0 2019-01-09  3.932144  2.630252\n",
       "1 2019-01-17  1.171366  2.489470\n",
       "2 2019-01-25  1.118915  2.029257\n",
       "3 2019-02-02  0.510430  2.029257\n",
       "4 2019-02-10  1.242594 -0.781515"
      ]
     },
     "execution_count": 3,
     "metadata": {},
     "output_type": "execute_result"
    }
   ],
   "source": [
    "superior_df.head()"
   ]
  },
  {
   "cell_type": "code",
   "execution_count": 4,
   "metadata": {},
   "outputs": [
    {
     "data": {
      "text/plain": [
       "date     datetime64[ns]\n",
       "chlor           float64\n",
       "sst             float64\n",
       "dtype: object"
      ]
     },
     "execution_count": 4,
     "metadata": {},
     "output_type": "execute_result"
    }
   ],
   "source": [
    "erie_df.dtypes"
   ]
  },
  {
   "cell_type": "code",
   "execution_count": 5,
   "metadata": {},
   "outputs": [],
   "source": [
    "def convert_dates_to_days(dates, start_date=None, name='Day'):\n",
    "    \"\"\"Converts a series of dates to a series of float values that\n",
    "    represent days since start_date.\n",
    "    \"\"\"\n",
    "\n",
    "    if start_date:\n",
    "        ts0 = pd.Timestamp(start_date).timestamp()\n",
    "    else:\n",
    "        ts0 = 0\n",
    "\n",
    "    return ((dates.apply(pd.Timestamp.timestamp) - \n",
    "            ts0)/(24*3600)).rename(name)"
   ]
  },
  {
   "cell_type": "code",
   "execution_count": 6,
   "metadata": {},
   "outputs": [],
   "source": [
    "date = erie_df[\"date\"].iloc[0]"
   ]
  },
  {
   "cell_type": "markdown",
   "metadata": {},
   "source": [
    "# Erie"
   ]
  },
  {
   "cell_type": "code",
   "execution_count": 7,
   "metadata": {},
   "outputs": [],
   "source": [
    "org_time = convert_dates_to_days(erie_df[\"date\"], start_date = date)\n",
    "org_chlor_interp = interp1d(org_time, erie_df[\"chlor\"], kind = \"cubic\", fill_value = \"extrapolate\")\n",
    "org_sst_interp = interp1d(org_time, erie_df[\"sst\"], kind = \"cubic\", fill_value = \"extrapolate\")\n",
    "interp_dates = convert_dates_to_days(pd.Series(pd.date_range(erie_df[\"date\"].iloc[0], erie_df[\"date\"].iloc[-1], freq = \"D\")), start_date = date)\n",
    "interp_chlor = org_chlor_interp(interp_dates)\n",
    "interp_sst = org_sst_interp(interp_dates)"
   ]
  },
  {
   "cell_type": "code",
   "execution_count": 8,
   "metadata": {},
   "outputs": [
    {
     "data": {
      "text/plain": [
       "0        0.0\n",
       "1        1.0\n",
       "2        2.0\n",
       "3        3.0\n",
       "4        4.0\n",
       "       ...  \n",
       "581    581.0\n",
       "582    582.0\n",
       "583    583.0\n",
       "584    584.0\n",
       "585    585.0\n",
       "Name: Day, Length: 586, dtype: float64"
      ]
     },
     "execution_count": 8,
     "metadata": {},
     "output_type": "execute_result"
    }
   ],
   "source": [
    "interp_dates\n"
   ]
  },
  {
   "cell_type": "code",
   "execution_count": 9,
   "metadata": {},
   "outputs": [],
   "source": [
    "interp_erie_df = pd.DataFrame()\n",
    "dates = pd.Series(pd.date_range(erie_df[\"date\"].iloc[0], erie_df[\"date\"].iloc[-1], freq = \"D\"))\n",
    "interp_erie_df[\"date\"] = dates\n",
    "interp_erie_df[\"chlor\"] = interp_chlor\n",
    "interp_erie_df[\"sst\"] = interp_sst"
   ]
  },
  {
   "cell_type": "code",
   "execution_count": 10,
   "metadata": {},
   "outputs": [],
   "source": [
    "interp_erie_df.to_csv(\"erie_interp.csv\", index = False)"
   ]
  },
  {
   "cell_type": "markdown",
   "metadata": {},
   "source": [
    "# Huron"
   ]
  },
  {
   "cell_type": "code",
   "execution_count": 11,
   "metadata": {},
   "outputs": [],
   "source": [
    "org_time = convert_dates_to_days(huron_df[\"date\"], start_date = date)\n",
    "org_chlor_interp = interp1d(org_time, huron_df[\"chlor\"], kind = \"cubic\", fill_value = \"extrapolate\")\n",
    "org_sst_interp = interp1d(org_time, huron_df[\"sst\"], kind = \"cubic\", fill_value = \"extrapolate\")\n",
    "interp_dates = convert_dates_to_days(pd.Series(pd.date_range(huron_df[\"date\"].iloc[0], huron_df[\"date\"].iloc[-1], freq = \"D\")), start_date = date)\n",
    "interp_chlor = org_chlor_interp(interp_dates)\n",
    "interp_sst = org_sst_interp(interp_dates)"
   ]
  },
  {
   "cell_type": "code",
   "execution_count": 12,
   "metadata": {},
   "outputs": [],
   "source": [
    "interp_huron_df = pd.DataFrame()\n",
    "dates = pd.Series(pd.date_range(huron_df[\"date\"].iloc[0], huron_df[\"date\"].iloc[-1], freq = \"D\"))\n",
    "interp_huron_df[\"date\"] = dates\n",
    "interp_huron_df[\"chlor\"] = interp_chlor\n",
    "interp_huron_df[\"sst\"] = interp_sst"
   ]
  },
  {
   "cell_type": "code",
   "execution_count": 13,
   "metadata": {},
   "outputs": [],
   "source": [
    "interp_huron_df.to_csv(\"huron_interp.csv\", index = False)"
   ]
  },
  {
   "cell_type": "markdown",
   "metadata": {},
   "source": [
    "# Michigan"
   ]
  },
  {
   "cell_type": "code",
   "execution_count": 14,
   "metadata": {},
   "outputs": [],
   "source": [
    "org_time = convert_dates_to_days(michigan_df[\"date\"], start_date = date)\n",
    "org_chlor_interp = interp1d(org_time, michigan_df[\"chlor\"], kind = \"cubic\", fill_value = \"extrapolate\")\n",
    "org_sst_interp = interp1d(org_time, michigan_df[\"sst\"], kind = \"cubic\", fill_value = \"extrapolate\")\n",
    "interp_dates = convert_dates_to_days(pd.Series(pd.date_range(michigan_df[\"date\"].iloc[0], michigan_df[\"date\"].iloc[-1], freq = \"D\")), start_date = date)\n",
    "interp_chlor = org_chlor_interp(interp_dates)\n",
    "interp_sst = org_sst_interp(interp_dates)"
   ]
  },
  {
   "cell_type": "code",
   "execution_count": 15,
   "metadata": {},
   "outputs": [],
   "source": [
    "interp_michigan_df = pd.DataFrame()\n",
    "dates = pd.Series(pd.date_range(michigan_df[\"date\"].iloc[0], michigan_df[\"date\"].iloc[-1], freq = \"D\"))\n",
    "interp_michigan_df[\"date\"] = dates\n",
    "interp_michigan_df[\"chlor\"] = interp_chlor\n",
    "interp_michigan_df[\"sst\"] = interp_sst"
   ]
  },
  {
   "cell_type": "code",
   "execution_count": 16,
   "metadata": {},
   "outputs": [],
   "source": [
    "interp_michigan_df.to_csv(\"michigan_interp.csv\", index = False)"
   ]
  },
  {
   "cell_type": "markdown",
   "metadata": {},
   "source": [
    "# Ontario"
   ]
  },
  {
   "cell_type": "code",
   "execution_count": 17,
   "metadata": {},
   "outputs": [],
   "source": [
    "org_time = convert_dates_to_days(ontario_df[\"date\"], start_date = \"2019-01-09\")\n",
    "org_chlor_interp = interp1d(org_time, ontario_df[\"chlor\"], kind = \"cubic\", fill_value = \"extrapolate\")\n",
    "org_sst_interp = interp1d(org_time, ontario_df[\"sst\"], kind = \"cubic\", fill_value = \"extrapolate\")\n",
    "interp_dates = convert_dates_to_days(pd.Series(pd.date_range(ontario_df[\"date\"].iloc[0], ontario_df[\"date\"].iloc[-1], freq = \"D\")), start_date = date)\n",
    "interp_chlor = org_chlor_interp(interp_dates)\n",
    "interp_sst = org_sst_interp(interp_dates)"
   ]
  },
  {
   "cell_type": "code",
   "execution_count": 18,
   "metadata": {},
   "outputs": [],
   "source": [
    "interp_ontario_df = pd.DataFrame()\n",
    "dates = pd.Series(pd.date_range(ontario_df[\"date\"].iloc[0], ontario_df[\"date\"].iloc[-1], freq = \"D\"))\n",
    "interp_ontario_df[\"date\"] = dates\n",
    "interp_ontario_df[\"chlor\"] = interp_chlor\n",
    "interp_ontario_df[\"sst\"] = interp_sst"
   ]
  },
  {
   "cell_type": "code",
   "execution_count": 19,
   "metadata": {},
   "outputs": [],
   "source": [
    "interp_ontario_df.to_csv(\"ontario_interp.csv\", index = False)"
   ]
  },
  {
   "cell_type": "markdown",
   "metadata": {},
   "source": [
    "# Superior"
   ]
  },
  {
   "cell_type": "code",
   "execution_count": 20,
   "metadata": {},
   "outputs": [],
   "source": [
    "org_time = convert_dates_to_days(superior_df[\"date\"], start_date = date)\n",
    "org_chlor_interp = interp1d(org_time, superior_df[\"chlor\"], kind = \"cubic\", fill_value = \"extrapolate\")\n",
    "org_sst_interp = interp1d(org_time, superior_df[\"sst\"], kind = \"cubic\", fill_value = \"extrapolate\")\n",
    "interp_dates = convert_dates_to_days(pd.Series(pd.date_range(superior_df[\"date\"].iloc[0], superior_df[\"date\"].iloc[-1], freq = \"D\")), start_date = date)\n",
    "interp_chlor = org_chlor_interp(interp_dates)\n",
    "interp_sst = org_sst_interp(interp_dates)"
   ]
  },
  {
   "cell_type": "code",
   "execution_count": 21,
   "metadata": {},
   "outputs": [],
   "source": [
    "interp_superior_df = pd.DataFrame()\n",
    "dates = pd.Series(pd.date_range(superior_df[\"date\"].iloc[0], superior_df[\"date\"].iloc[-1], freq = \"D\"))\n",
    "interp_superior_df[\"date\"] = dates\n",
    "interp_superior_df[\"chlor\"] = interp_chlor\n",
    "interp_superior_df[\"sst\"] = interp_sst"
   ]
  },
  {
   "cell_type": "code",
   "execution_count": 22,
   "metadata": {},
   "outputs": [],
   "source": [
    "interp_superior_df.to_csv(\"superior_interp.csv\", index = False)"
   ]
  },
  {
   "cell_type": "code",
   "execution_count": 23,
   "metadata": {},
   "outputs": [
    {
     "data": {
      "text/html": [
       "<div>\n",
       "<style scoped>\n",
       "    .dataframe tbody tr th:only-of-type {\n",
       "        vertical-align: middle;\n",
       "    }\n",
       "\n",
       "    .dataframe tbody tr th {\n",
       "        vertical-align: top;\n",
       "    }\n",
       "\n",
       "    .dataframe thead th {\n",
       "        text-align: right;\n",
       "    }\n",
       "</style>\n",
       "<table border=\"1\" class=\"dataframe\">\n",
       "  <thead>\n",
       "    <tr style=\"text-align: right;\">\n",
       "      <th></th>\n",
       "      <th>date</th>\n",
       "      <th>chlor</th>\n",
       "      <th>sst</th>\n",
       "    </tr>\n",
       "  </thead>\n",
       "  <tbody>\n",
       "    <tr>\n",
       "      <th>0</th>\n",
       "      <td>2019-01-09</td>\n",
       "      <td>3.932144</td>\n",
       "      <td>2.630252</td>\n",
       "    </tr>\n",
       "    <tr>\n",
       "      <th>1</th>\n",
       "      <td>2019-01-10</td>\n",
       "      <td>3.267805</td>\n",
       "      <td>2.726523</td>\n",
       "    </tr>\n",
       "    <tr>\n",
       "      <th>2</th>\n",
       "      <td>2019-01-11</td>\n",
       "      <td>2.714236</td>\n",
       "      <td>2.779243</td>\n",
       "    </tr>\n",
       "    <tr>\n",
       "      <th>3</th>\n",
       "      <td>2019-01-12</td>\n",
       "      <td>2.261658</td>\n",
       "      <td>2.793921</td>\n",
       "    </tr>\n",
       "    <tr>\n",
       "      <th>4</th>\n",
       "      <td>2019-01-13</td>\n",
       "      <td>1.900291</td>\n",
       "      <td>2.776064</td>\n",
       "    </tr>\n",
       "    <tr>\n",
       "      <th>...</th>\n",
       "      <td>...</td>\n",
       "      <td>...</td>\n",
       "      <td>...</td>\n",
       "    </tr>\n",
       "    <tr>\n",
       "      <th>581</th>\n",
       "      <td>2020-08-12</td>\n",
       "      <td>1.054696</td>\n",
       "      <td>16.204808</td>\n",
       "    </tr>\n",
       "    <tr>\n",
       "      <th>582</th>\n",
       "      <td>2020-08-13</td>\n",
       "      <td>1.034493</td>\n",
       "      <td>16.325007</td>\n",
       "    </tr>\n",
       "    <tr>\n",
       "      <th>583</th>\n",
       "      <td>2020-08-14</td>\n",
       "      <td>1.002084</td>\n",
       "      <td>16.531883</td>\n",
       "    </tr>\n",
       "    <tr>\n",
       "      <th>584</th>\n",
       "      <td>2020-08-15</td>\n",
       "      <td>0.955819</td>\n",
       "      <td>16.842726</td>\n",
       "    </tr>\n",
       "    <tr>\n",
       "      <th>585</th>\n",
       "      <td>2020-08-16</td>\n",
       "      <td>0.894050</td>\n",
       "      <td>17.274823</td>\n",
       "    </tr>\n",
       "  </tbody>\n",
       "</table>\n",
       "<p>586 rows × 3 columns</p>\n",
       "</div>"
      ],
      "text/plain": [
       "          date     chlor        sst\n",
       "0   2019-01-09  3.932144   2.630252\n",
       "1   2019-01-10  3.267805   2.726523\n",
       "2   2019-01-11  2.714236   2.779243\n",
       "3   2019-01-12  2.261658   2.793921\n",
       "4   2019-01-13  1.900291   2.776064\n",
       "..         ...       ...        ...\n",
       "581 2020-08-12  1.054696  16.204808\n",
       "582 2020-08-13  1.034493  16.325007\n",
       "583 2020-08-14  1.002084  16.531883\n",
       "584 2020-08-15  0.955819  16.842726\n",
       "585 2020-08-16  0.894050  17.274823\n",
       "\n",
       "[586 rows x 3 columns]"
      ]
     },
     "execution_count": 23,
     "metadata": {},
     "output_type": "execute_result"
    }
   ],
   "source": [
    "interp_superior_df"
   ]
  },
  {
   "cell_type": "code",
   "execution_count": null,
   "metadata": {},
   "outputs": [],
   "source": []
  }
 ],
 "metadata": {
  "kernelspec": {
   "display_name": "Python 3",
   "language": "python",
   "name": "python3"
  },
  "language_info": {
   "codemirror_mode": {
    "name": "ipython",
    "version": 3
   },
   "file_extension": ".py",
   "mimetype": "text/x-python",
   "name": "python",
   "nbconvert_exporter": "python",
   "pygments_lexer": "ipython3",
   "version": "3.8.5"
  }
 },
 "nbformat": 4,
 "nbformat_minor": 4
}
